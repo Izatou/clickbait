{
 "cells": [
  {
   "cell_type": "code",
   "execution_count": null,
   "metadata": {
    "id": "BAM1IUO4K45X"
   },
   "outputs": [],
   "source": [
    "!pip install tensorflow-text"
   ]
  },
  {
   "cell_type": "code",
   "execution_count": null,
   "metadata": {
    "id": "ikL8Kci8KUu1"
   },
   "outputs": [],
   "source": [
    "import tensorflow as tf\n",
    "import tensorflow_hub as hub\n",
    "import tensorflow_text as text"
   ]
  },
  {
   "cell_type": "code",
   "execution_count": null,
   "metadata": {
    "id": "vT9ESkEjLxjg"
   },
   "outputs": [],
   "source": [
    "import pandas as pd\n",
    "\n",
    "df = pd.read_csv(\"/content/main.csv\")"
   ]
  },
  {
   "cell_type": "code",
   "execution_count": null,
   "metadata": {
    "colab": {
     "base_uri": "https://localhost:8080/",
     "height": 206
    },
    "id": "XvP6MReONZen",
    "outputId": "0000a4d2-26a8-4b3e-a29e-0762fc3ee461"
   },
   "outputs": [
    {
     "data": {
      "text/html": [
       "<div>\n",
       "<style scoped>\n",
       "    .dataframe tbody tr th:only-of-type {\n",
       "        vertical-align: middle;\n",
       "    }\n",
       "\n",
       "    .dataframe tbody tr th {\n",
       "        vertical-align: top;\n",
       "    }\n",
       "\n",
       "    .dataframe thead th {\n",
       "        text-align: right;\n",
       "    }\n",
       "</style>\n",
       "<table border=\"1\" class=\"dataframe\">\n",
       "  <thead>\n",
       "    <tr style=\"text-align: right;\">\n",
       "      <th></th>\n",
       "      <th>label</th>\n",
       "      <th>title</th>\n",
       "    </tr>\n",
       "  </thead>\n",
       "  <tbody>\n",
       "    <tr>\n",
       "      <th>0</th>\n",
       "      <td>non-clickbait</td>\n",
       "      <td>Masuk Radar Pilwalkot Medan, Menantu Jokowi Be...</td>\n",
       "    </tr>\n",
       "    <tr>\n",
       "      <th>1</th>\n",
       "      <td>non-clickbait</td>\n",
       "      <td>Malaysia Sudutkan RI: Isu Kabut Asap hingga In...</td>\n",
       "    </tr>\n",
       "    <tr>\n",
       "      <th>2</th>\n",
       "      <td>clickbait</td>\n",
       "      <td>Viral! Driver Ojol di Bekasi Antar Pesanan Mak...</td>\n",
       "    </tr>\n",
       "    <tr>\n",
       "      <th>3</th>\n",
       "      <td>non-clickbait</td>\n",
       "      <td>Kemensos Salurkan Rp 7,3 M bagi Korban Kerusuh...</td>\n",
       "    </tr>\n",
       "    <tr>\n",
       "      <th>4</th>\n",
       "      <td>non-clickbait</td>\n",
       "      <td>Terkait Mayat Bayi Mengenaskan di Tangerang, S...</td>\n",
       "    </tr>\n",
       "  </tbody>\n",
       "</table>\n",
       "</div>"
      ],
      "text/plain": [
       "           label                                              title\n",
       "0  non-clickbait  Masuk Radar Pilwalkot Medan, Menantu Jokowi Be...\n",
       "1  non-clickbait  Malaysia Sudutkan RI: Isu Kabut Asap hingga In...\n",
       "2      clickbait  Viral! Driver Ojol di Bekasi Antar Pesanan Mak...\n",
       "3  non-clickbait  Kemensos Salurkan Rp 7,3 M bagi Korban Kerusuh...\n",
       "4  non-clickbait  Terkait Mayat Bayi Mengenaskan di Tangerang, S..."
      ]
     },
     "execution_count": 7,
     "metadata": {},
     "output_type": "execute_result"
    }
   ],
   "source": [
    "df.head(5)"
   ]
  },
  {
   "cell_type": "code",
   "execution_count": null,
   "metadata": {
    "colab": {
     "base_uri": "https://localhost:8080/",
     "height": 175
    },
    "id": "fuwFvpuFNckK",
    "outputId": "255fa9e4-c9e5-4dbb-bbd6-5310437cf3d0"
   },
   "outputs": [
    {
     "data": {
      "text/html": [
       "<div>\n",
       "<style scoped>\n",
       "    .dataframe tbody tr th:only-of-type {\n",
       "        vertical-align: middle;\n",
       "    }\n",
       "\n",
       "    .dataframe tbody tr th {\n",
       "        vertical-align: top;\n",
       "    }\n",
       "\n",
       "    .dataframe thead tr th {\n",
       "        text-align: left;\n",
       "    }\n",
       "\n",
       "    .dataframe thead tr:last-of-type th {\n",
       "        text-align: right;\n",
       "    }\n",
       "</style>\n",
       "<table border=\"1\" class=\"dataframe\">\n",
       "  <thead>\n",
       "    <tr>\n",
       "      <th></th>\n",
       "      <th colspan=\"4\" halign=\"left\">title</th>\n",
       "    </tr>\n",
       "    <tr>\n",
       "      <th></th>\n",
       "      <th>count</th>\n",
       "      <th>unique</th>\n",
       "      <th>top</th>\n",
       "      <th>freq</th>\n",
       "    </tr>\n",
       "    <tr>\n",
       "      <th>label</th>\n",
       "      <th></th>\n",
       "      <th></th>\n",
       "      <th></th>\n",
       "      <th></th>\n",
       "    </tr>\n",
       "  </thead>\n",
       "  <tbody>\n",
       "    <tr>\n",
       "      <th>clickbait</th>\n",
       "      <td>6290</td>\n",
       "      <td>6285</td>\n",
       "      <td>Clustering, Jurus BRI Berdayakan Nasabah Ultra...</td>\n",
       "      <td>2</td>\n",
       "    </tr>\n",
       "    <tr>\n",
       "      <th>non-clickbait</th>\n",
       "      <td>8710</td>\n",
       "      <td>8693</td>\n",
       "      <td>Jadwal MU vs Leicester City di Liga Inggris, S...</td>\n",
       "      <td>2</td>\n",
       "    </tr>\n",
       "  </tbody>\n",
       "</table>\n",
       "</div>"
      ],
      "text/plain": [
       "              title  ...     \n",
       "              count  ... freq\n",
       "label                ...     \n",
       "clickbait      6290  ...    2\n",
       "non-clickbait  8710  ...    2\n",
       "\n",
       "[2 rows x 4 columns]"
      ]
     },
     "execution_count": 8,
     "metadata": {},
     "output_type": "execute_result"
    }
   ],
   "source": [
    "df.groupby(\"label\").describe()"
   ]
  },
  {
   "cell_type": "code",
   "execution_count": null,
   "metadata": {
    "colab": {
     "base_uri": "https://localhost:8080/"
    },
    "id": "ERB28gBgOh9-",
    "outputId": "07c94d39-96c5-42a2-d333-cfc9a611f8e9"
   },
   "outputs": [
    {
     "data": {
      "text/plain": [
       "(6290, 2)"
      ]
     },
     "execution_count": 9,
     "metadata": {},
     "output_type": "execute_result"
    }
   ],
   "source": [
    "df_cb = df[df[\"label\"] == \"clickbait\"]\n",
    "df_cb.shape"
   ]
  },
  {
   "cell_type": "code",
   "execution_count": null,
   "metadata": {
    "colab": {
     "base_uri": "https://localhost:8080/"
    },
    "id": "uYSW3lf2Ozv3",
    "outputId": "e94f7dde-40c5-46ba-9cee-5b6ab56817c4"
   },
   "outputs": [
    {
     "data": {
      "text/plain": [
       "(8710, 2)"
      ]
     },
     "execution_count": 10,
     "metadata": {},
     "output_type": "execute_result"
    }
   ],
   "source": [
    "df_ncb = df[df[\"label\"] == \"non-clickbait\"]\n",
    "df_ncb.shape"
   ]
  },
  {
   "cell_type": "code",
   "execution_count": null,
   "metadata": {
    "colab": {
     "base_uri": "https://localhost:8080/"
    },
    "id": "UZyc6g-eO-HM",
    "outputId": "e59969f8-10d3-45c5-fce8-1ed5abcc18e3"
   },
   "outputs": [
    {
     "data": {
      "text/plain": [
       "(6290, 2)"
      ]
     },
     "execution_count": 11,
     "metadata": {},
     "output_type": "execute_result"
    }
   ],
   "source": [
    "df_ncb_downsampled = df_ncb.sample(df_cb.shape[0])\n",
    "df_ncb_downsampled.shape"
   ]
  },
  {
   "cell_type": "code",
   "execution_count": null,
   "metadata": {
    "id": "rPWj4nikPcSR"
   },
   "outputs": [],
   "source": [
    "df_balanced = pd.concat([df_cb, df_ncb_downsampled])"
   ]
  },
  {
   "cell_type": "code",
   "execution_count": null,
   "metadata": {
    "colab": {
     "base_uri": "https://localhost:8080/"
    },
    "id": "Gv3iWLM-Pxl0",
    "outputId": "e648d9da-cdb2-4370-f5a4-35c38e9a4598"
   },
   "outputs": [
    {
     "data": {
      "text/plain": [
       "non-clickbait    6290\n",
       "clickbait        6290\n",
       "Name: label, dtype: int64"
      ]
     },
     "execution_count": 13,
     "metadata": {},
     "output_type": "execute_result"
    }
   ],
   "source": [
    "df_balanced[\"label\"].value_counts()"
   ]
  },
  {
   "cell_type": "code",
   "execution_count": null,
   "metadata": {
    "id": "sEHHT91WP8KA"
   },
   "outputs": [],
   "source": [
    "df_balanced[\"clickbait\"] = df_balanced[\"label\"].apply(lambda x:1 if x==\"clickbait\" else 0)"
   ]
  },
  {
   "cell_type": "code",
   "execution_count": null,
   "metadata": {
    "colab": {
     "base_uri": "https://localhost:8080/",
     "height": 206
    },
    "id": "mYgADO5TQsXA",
    "outputId": "0054ea9a-3287-4490-cc75-94ef42ee817b"
   },
   "outputs": [
    {
     "data": {
      "text/html": [
       "<div>\n",
       "<style scoped>\n",
       "    .dataframe tbody tr th:only-of-type {\n",
       "        vertical-align: middle;\n",
       "    }\n",
       "\n",
       "    .dataframe tbody tr th {\n",
       "        vertical-align: top;\n",
       "    }\n",
       "\n",
       "    .dataframe thead th {\n",
       "        text-align: right;\n",
       "    }\n",
       "</style>\n",
       "<table border=\"1\" class=\"dataframe\">\n",
       "  <thead>\n",
       "    <tr style=\"text-align: right;\">\n",
       "      <th></th>\n",
       "      <th>label</th>\n",
       "      <th>title</th>\n",
       "      <th>clickbait</th>\n",
       "    </tr>\n",
       "  </thead>\n",
       "  <tbody>\n",
       "    <tr>\n",
       "      <th>2</th>\n",
       "      <td>clickbait</td>\n",
       "      <td>Viral! Driver Ojol di Bekasi Antar Pesanan Mak...</td>\n",
       "      <td>1</td>\n",
       "    </tr>\n",
       "    <tr>\n",
       "      <th>11</th>\n",
       "      <td>clickbait</td>\n",
       "      <td>Ada Motor Nyangkut di Atas Bambu di Sleman, Ko...</td>\n",
       "      <td>1</td>\n",
       "    </tr>\n",
       "    <tr>\n",
       "      <th>13</th>\n",
       "      <td>clickbait</td>\n",
       "      <td>Pesan Gamblang Poyuono Menolak Revisi UU KPK</td>\n",
       "      <td>1</td>\n",
       "    </tr>\n",
       "    <tr>\n",
       "      <th>37</th>\n",
       "      <td>clickbait</td>\n",
       "      <td>Detik-detik Lima Kendaraan Alami Kecelakaan Be...</td>\n",
       "      <td>1</td>\n",
       "    </tr>\n",
       "    <tr>\n",
       "      <th>38</th>\n",
       "      <td>clickbait</td>\n",
       "      <td>Kocak! Maling di Rumah Mewah Jakut Terekam CCT...</td>\n",
       "      <td>1</td>\n",
       "    </tr>\n",
       "  </tbody>\n",
       "</table>\n",
       "</div>"
      ],
      "text/plain": [
       "        label                                              title  clickbait\n",
       "2   clickbait  Viral! Driver Ojol di Bekasi Antar Pesanan Mak...          1\n",
       "11  clickbait  Ada Motor Nyangkut di Atas Bambu di Sleman, Ko...          1\n",
       "13  clickbait       Pesan Gamblang Poyuono Menolak Revisi UU KPK          1\n",
       "37  clickbait  Detik-detik Lima Kendaraan Alami Kecelakaan Be...          1\n",
       "38  clickbait  Kocak! Maling di Rumah Mewah Jakut Terekam CCT...          1"
      ]
     },
     "execution_count": 15,
     "metadata": {},
     "output_type": "execute_result"
    }
   ],
   "source": [
    "df_balanced.head()"
   ]
  },
  {
   "cell_type": "code",
   "execution_count": null,
   "metadata": {
    "id": "Jr7jDqoHRSVx"
   },
   "outputs": [],
   "source": [
    "from sklearn.model_selection import train_test_split\n",
    "\n",
    "X_train, X_test, y_train, y_test = train_test_split(df_balanced['title'],df_balanced['clickbait'], stratify=df_balanced['clickbait'])"
   ]
  },
  {
   "cell_type": "code",
   "execution_count": null,
   "metadata": {
    "colab": {
     "base_uri": "https://localhost:8080/"
    },
    "id": "bnHNNaw7Rbck",
    "outputId": "29a355f1-ce5d-46f1-af49-2fc484b23762"
   },
   "outputs": [
    {
     "data": {
      "text/plain": [
       "10176    Ribuan Rumah Bakal Tergusur Proyek Double Trac...\n",
       "9528     Menjajal Jaringan Ngebut Smartfren di Kawasan ...\n",
       "7264     JK : Sound System Masjid kadang Mengganggu, Ak...\n",
       "13962    Laudya Cynthia Bella Mewek Tanpa Cincin Kawin ...\n",
       "Name: title, dtype: object"
      ]
     },
     "execution_count": 17,
     "metadata": {},
     "output_type": "execute_result"
    }
   ],
   "source": [
    "X_train.head(4)"
   ]
  },
  {
   "cell_type": "code",
   "execution_count": null,
   "metadata": {
    "id": "0UNKEbluRe-7"
   },
   "outputs": [],
   "source": [
    "bert_preprocess = hub.KerasLayer(\"https://tfhub.dev/tensorflow/bert_en_uncased_preprocess/3\")\n",
    "bert_encoder = hub.KerasLayer(\"https://tfhub.dev/tensorflow/bert_en_uncased_L-12_H-768_A-12/4\")"
   ]
  },
  {
   "cell_type": "code",
   "execution_count": null,
   "metadata": {
    "colab": {
     "base_uri": "https://localhost:8080/"
    },
    "id": "bhgXP77WRmkB",
    "outputId": "9d743f43-fe18-4833-8042-7b5e3ee8e858"
   },
   "outputs": [
    {
     "data": {
      "text/plain": [
       "<tf.Tensor: shape=(2, 768), dtype=float32, numpy=\n",
       "array([[-0.84585255, -0.30646417, -0.5881597 , ..., -0.35923603,\n",
       "        -0.5986587 ,  0.8222759 ],\n",
       "       [-0.85944283, -0.502674  , -0.9666674 , ..., -0.91528577,\n",
       "        -0.71611214,  0.8117752 ]], dtype=float32)>"
      ]
     },
     "execution_count": 19,
     "metadata": {},
     "output_type": "execute_result"
    }
   ],
   "source": [
    "def get_sentence_embeding(sentences):\n",
    "    preprocessed_text = bert_preprocess(sentences)\n",
    "    return bert_encoder(preprocessed_text)['pooled_output']\n",
    "\n",
    "get_sentence_embeding([\n",
    "    \"jokowi presiden kita\", \n",
    "    \"apa kabar kasus ahok?\"]\n",
    ")"
   ]
  },
  {
   "cell_type": "code",
   "execution_count": null,
   "metadata": {
    "id": "1x1HiT9WSP3z"
   },
   "outputs": [],
   "source": [
    "coba = get_sentence_embeding([\"jokowi\", \"prabowo\",\"indonesia\", \n",
    "                              \"medan\", \"madura\", \"pisang\"])"
   ]
  },
  {
   "cell_type": "code",
   "execution_count": null,
   "metadata": {
    "colab": {
     "base_uri": "https://localhost:8080/"
    },
    "id": "Gxk2fzgwS2oO",
    "outputId": "666a4cbc-6fce-4d6c-f414-e64deb97e677"
   },
   "outputs": [
    {
     "data": {
      "text/plain": [
       "array([[0.981042]], dtype=float32)"
      ]
     },
     "execution_count": 21,
     "metadata": {},
     "output_type": "execute_result"
    }
   ],
   "source": [
    "from sklearn.metrics.pairwise import cosine_similarity\n",
    "cosine_similarity([coba[0]],[coba[1]])"
   ]
  },
  {
   "cell_type": "code",
   "execution_count": null,
   "metadata": {
    "id": "ALoQjVFpTo8q"
   },
   "outputs": [],
   "source": [
    "# Bert layers\n",
    "text_input = tf.keras.layers.Input(shape=(), dtype=tf.string, name='text')\n",
    "preprocessed_text = bert_preprocess(text_input)\n",
    "outputs = bert_encoder(preprocessed_text)\n",
    "\n",
    "# Neural network layers\n",
    "l = tf.keras.layers.Dropout(0.1, name=\"dropout\")(outputs['pooled_output'])\n",
    "l = tf.keras.layers.Dense(1, activation='sigmoid', name=\"output\")(l)\n",
    "\n",
    "# Use inputs and outputs to construct a final model\n",
    "model = tf.keras.Model(inputs=[text_input], outputs = [l])"
   ]
  },
  {
   "cell_type": "code",
   "execution_count": null,
   "metadata": {
    "colab": {
     "base_uri": "https://localhost:8080/"
    },
    "id": "zHZq3oWjTqP0",
    "outputId": "9c487ffc-9a28-4f9d-968c-613ba735d0e1"
   },
   "outputs": [
    {
     "name": "stdout",
     "output_type": "stream",
     "text": [
      "Model: \"model\"\n",
      "__________________________________________________________________________________________________\n",
      " Layer (type)                   Output Shape         Param #     Connected to                     \n",
      "==================================================================================================\n",
      " text (InputLayer)              [(None,)]            0           []                               \n",
      "                                                                                                  \n",
      " keras_layer (KerasLayer)       {'input_type_ids':   0           ['text[0][0]']                   \n",
      "                                (None, 128),                                                      \n",
      "                                 'input_mask': (Non                                               \n",
      "                                e, 128),                                                          \n",
      "                                 'input_word_ids':                                                \n",
      "                                (None, 128)}                                                      \n",
      "                                                                                                  \n",
      " keras_layer_1 (KerasLayer)     {'default': (None,   109482241   ['keras_layer[0][0]',            \n",
      "                                768),                             'keras_layer[0][1]',            \n",
      "                                 'sequence_output':               'keras_layer[0][2]']            \n",
      "                                 (None, 128, 768),                                                \n",
      "                                 'encoder_outputs':                                               \n",
      "                                 [(None, 128, 768),                                               \n",
      "                                 (None, 128, 768),                                                \n",
      "                                 (None, 128, 768),                                                \n",
      "                                 (None, 128, 768),                                                \n",
      "                                 (None, 128, 768),                                                \n",
      "                                 (None, 128, 768),                                                \n",
      "                                 (None, 128, 768),                                                \n",
      "                                 (None, 128, 768),                                                \n",
      "                                 (None, 128, 768),                                                \n",
      "                                 (None, 128, 768),                                                \n",
      "                                 (None, 128, 768),                                                \n",
      "                                 (None, 128, 768)],                                               \n",
      "                                 'pooled_output': (                                               \n",
      "                                None, 768)}                                                       \n",
      "                                                                                                  \n",
      " dropout (Dropout)              (None, 768)          0           ['keras_layer_1[0][13]']         \n",
      "                                                                                                  \n",
      " output (Dense)                 (None, 1)            769         ['dropout[0][0]']                \n",
      "                                                                                                  \n",
      "==================================================================================================\n",
      "Total params: 109,483,010\n",
      "Trainable params: 769\n",
      "Non-trainable params: 109,482,241\n",
      "__________________________________________________________________________________________________\n"
     ]
    }
   ],
   "source": [
    "model.summary()"
   ]
  },
  {
   "cell_type": "code",
   "execution_count": null,
   "metadata": {
    "colab": {
     "base_uri": "https://localhost:8080/"
    },
    "id": "GiZz_7CGTsmS",
    "outputId": "2f84fd13-99c1-4984-d6f1-cb007e6ce2c9"
   },
   "outputs": [
    {
     "data": {
      "text/plain": [
       "9435"
      ]
     },
     "execution_count": 24,
     "metadata": {},
     "output_type": "execute_result"
    }
   ],
   "source": [
    "len(X_train)"
   ]
  },
  {
   "cell_type": "code",
   "execution_count": null,
   "metadata": {
    "id": "H0w4Pd4tTutu"
   },
   "outputs": [],
   "source": [
    "METRICS = [\n",
    "      tf.keras.metrics.BinaryAccuracy(name='accuracy'),\n",
    "      tf.keras.metrics.Precision(name='precision'),\n",
    "      tf.keras.metrics.Recall(name='recall')\n",
    "]\n",
    "\n",
    "model.compile(optimizer='adam',\n",
    "              loss='binary_crossentropy',\n",
    "              metrics=METRICS)"
   ]
  },
  {
   "cell_type": "code",
   "execution_count": null,
   "metadata": {
    "colab": {
     "base_uri": "https://localhost:8080/"
    },
    "id": "uDnL394hTx2M",
    "outputId": "468e4e2f-8790-48b6-ec31-13c2448eac86"
   },
   "outputs": [
    {
     "name": "stdout",
     "output_type": "stream",
     "text": [
      "Epoch 1/10\n",
      "295/295 [==============================] - 199s 639ms/step - loss: 0.6731 - accuracy: 0.5793 - precision: 0.5832 - recall: 0.5559\n",
      "Epoch 2/10\n",
      "295/295 [==============================] - 188s 639ms/step - loss: 0.6551 - accuracy: 0.5994 - precision: 0.6044 - recall: 0.5752\n",
      "Epoch 3/10\n",
      "295/295 [==============================] - 188s 637ms/step - loss: 0.6483 - accuracy: 0.6103 - precision: 0.6161 - recall: 0.5849\n",
      "Epoch 4/10\n",
      "295/295 [==============================] - 188s 636ms/step - loss: 0.6422 - accuracy: 0.6171 - precision: 0.6228 - recall: 0.5934\n",
      "Epoch 5/10\n",
      "295/295 [==============================] - 187s 634ms/step - loss: 0.6383 - accuracy: 0.6226 - precision: 0.6290 - recall: 0.5976\n",
      "Epoch 6/10\n",
      "295/295 [==============================] - 188s 636ms/step - loss: 0.6367 - accuracy: 0.6332 - precision: 0.6399 - recall: 0.6089\n",
      "Epoch 7/10\n",
      "295/295 [==============================] - 186s 631ms/step - loss: 0.6305 - accuracy: 0.6362 - precision: 0.6438 - recall: 0.6099\n",
      "Epoch 8/10\n",
      "295/295 [==============================] - 186s 632ms/step - loss: 0.6274 - accuracy: 0.6421 - precision: 0.6502 - recall: 0.6148\n",
      "Epoch 9/10\n",
      "295/295 [==============================] - 187s 633ms/step - loss: 0.6276 - accuracy: 0.6405 - precision: 0.6456 - recall: 0.6229\n",
      "Epoch 10/10\n",
      "295/295 [==============================] - 185s 627ms/step - loss: 0.6264 - accuracy: 0.6435 - precision: 0.6510 - recall: 0.6182\n"
     ]
    },
    {
     "data": {
      "text/plain": [
       "<keras.callbacks.History at 0x7f8eed5abe90>"
      ]
     },
     "execution_count": 26,
     "metadata": {},
     "output_type": "execute_result"
    }
   ],
   "source": [
    "model.fit(X_train, y_train, epochs=10)"
   ]
  },
  {
   "cell_type": "code",
   "execution_count": null,
   "metadata": {
    "colab": {
     "base_uri": "https://localhost:8080/"
    },
    "id": "lISMcbYUUJV5",
    "outputId": "a60ec3a7-af58-4db9-ed4b-090883c0d14d"
   },
   "outputs": [
    {
     "name": "stdout",
     "output_type": "stream",
     "text": [
      "99/99 [==============================] - 62s 615ms/step - loss: 0.6149 - accuracy: 0.6696 - precision: 0.7401 - recall: 0.5232\n"
     ]
    },
    {
     "data": {
      "text/plain": [
       "[0.6149373054504395,\n",
       " 0.6696343421936035,\n",
       " 0.7401078939437866,\n",
       " 0.5232040882110596]"
      ]
     },
     "execution_count": 27,
     "metadata": {},
     "output_type": "execute_result"
    }
   ],
   "source": [
    "model.evaluate(X_test, y_test)"
   ]
  }
 ],
 "metadata": {
  "accelerator": "GPU",
  "colab": {
   "name": "Untitled9.ipynb",
   "provenance": []
  },
  "kernelspec": {
   "display_name": "Python 3",
   "language": "python",
   "name": "python3"
  },
  "language_info": {
   "codemirror_mode": {
    "name": "ipython",
    "version": 3
   },
   "file_extension": ".py",
   "mimetype": "text/x-python",
   "name": "python",
   "nbconvert_exporter": "python",
   "pygments_lexer": "ipython3",
   "version": "3.8.8"
  }
 },
 "nbformat": 4,
 "nbformat_minor": 1
}
